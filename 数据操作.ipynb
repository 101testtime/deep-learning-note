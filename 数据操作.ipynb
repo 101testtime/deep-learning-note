{
 "cells": [
  {
   "metadata": {},
   "cell_type": "markdown",
   "source": "# 数据操作",
   "id": "e45f20c7086f0330"
  },
  {
   "metadata": {},
   "cell_type": "markdown",
   "source": "## 2.1.1 入门",
   "id": "d0f1e02c1811301"
  },
  {
   "cell_type": "code",
   "id": "initial_id",
   "metadata": {
    "collapsed": true,
    "ExecuteTime": {
     "end_time": "2025-05-10T14:26:16.201209Z",
     "start_time": "2025-05-10T14:26:16.197304Z"
    }
   },
   "source": "import torch",
   "outputs": [],
   "execution_count": 458
  },
  {
   "metadata": {},
   "cell_type": "markdown",
   "source": "生成0到12的整数",
   "id": "382a2fac6d0a805"
  },
  {
   "metadata": {
    "ExecuteTime": {
     "end_time": "2025-05-10T14:26:16.297964Z",
     "start_time": "2025-05-10T14:26:16.293084Z"
    }
   },
   "cell_type": "code",
   "source": [
    "x = torch.arange(12)\n",
    "print(x)"
   ],
   "id": "eab0ac3718086d3a",
   "outputs": [
    {
     "name": "stdout",
     "output_type": "stream",
     "text": [
      "tensor([ 0,  1,  2,  3,  4,  5,  6,  7,  8,  9, 10, 11])\n"
     ]
    }
   ],
   "execution_count": 459
  },
  {
   "metadata": {},
   "cell_type": "markdown",
   "source": "显示x的形状",
   "id": "84fdef0ce4b35d89"
  },
  {
   "metadata": {
    "ExecuteTime": {
     "end_time": "2025-05-10T14:26:16.304349Z",
     "start_time": "2025-05-10T14:26:16.299118Z"
    }
   },
   "cell_type": "code",
   "source": "x.shape",
   "id": "8590e1bc5c43fe1e",
   "outputs": [
    {
     "data": {
      "text/plain": [
       "torch.Size([12])"
      ]
     },
     "execution_count": 460,
     "metadata": {},
     "output_type": "execute_result"
    }
   ],
   "execution_count": 460
  },
  {
   "metadata": {},
   "cell_type": "raw",
   "source": "获得张量中元素的个数",
   "id": "3ccc963f0d285e08"
  },
  {
   "metadata": {
    "ExecuteTime": {
     "end_time": "2025-05-10T14:26:16.311337Z",
     "start_time": "2025-05-10T14:26:16.306395Z"
    }
   },
   "cell_type": "code",
   "source": "x.numel()",
   "id": "1152c80afd0175fe",
   "outputs": [
    {
     "data": {
      "text/plain": [
       "12"
      ]
     },
     "execution_count": 461,
     "metadata": {},
     "output_type": "execute_result"
    }
   ],
   "execution_count": 461
  },
  {
   "metadata": {},
   "cell_type": "raw",
   "source": "改变张量形状",
   "id": "40bbdba16994af64"
  },
  {
   "metadata": {
    "ExecuteTime": {
     "end_time": "2025-05-10T14:26:16.320123Z",
     "start_time": "2025-05-10T14:26:16.314267Z"
    }
   },
   "cell_type": "code",
   "source": [
    "x.reshape(3,4)\n",
    "# x.reshape(-1,4)\n",
    "# x.reshape(3,-1)"
   ],
   "id": "6c8ab433b94cd373",
   "outputs": [
    {
     "data": {
      "text/plain": [
       "tensor([[ 0,  1,  2,  3],\n",
       "        [ 4,  5,  6,  7],\n",
       "        [ 8,  9, 10, 11]])"
      ]
     },
     "execution_count": 462,
     "metadata": {},
     "output_type": "execute_result"
    }
   ],
   "execution_count": 462
  },
  {
   "metadata": {},
   "cell_type": "markdown",
   "source": "创建全零张量",
   "id": "7259152d957e89c7"
  },
  {
   "metadata": {
    "ExecuteTime": {
     "end_time": "2025-05-10T14:26:16.358107Z",
     "start_time": "2025-05-10T14:26:16.350294Z"
    }
   },
   "cell_type": "code",
   "source": "torch.zeros(2,3,4)",
   "id": "6c1c3bd0b45dbdb4",
   "outputs": [
    {
     "data": {
      "text/plain": [
       "tensor([[[0., 0., 0., 0.],\n",
       "         [0., 0., 0., 0.],\n",
       "         [0., 0., 0., 0.]],\n",
       "\n",
       "        [[0., 0., 0., 0.],\n",
       "         [0., 0., 0., 0.],\n",
       "         [0., 0., 0., 0.]]])"
      ]
     },
     "execution_count": 463,
     "metadata": {},
     "output_type": "execute_result"
    }
   ],
   "execution_count": 463
  },
  {
   "metadata": {},
   "cell_type": "markdown",
   "source": "创建全一张量",
   "id": "e76278a406342cb6"
  },
  {
   "metadata": {
    "ExecuteTime": {
     "end_time": "2025-05-10T14:26:16.372077Z",
     "start_time": "2025-05-10T14:26:16.365235Z"
    }
   },
   "cell_type": "code",
   "source": "torch.ones(2,3,4)",
   "id": "5c612ed259bc6fc0",
   "outputs": [
    {
     "data": {
      "text/plain": [
       "tensor([[[1., 1., 1., 1.],\n",
       "         [1., 1., 1., 1.],\n",
       "         [1., 1., 1., 1.]],\n",
       "\n",
       "        [[1., 1., 1., 1.],\n",
       "         [1., 1., 1., 1.],\n",
       "         [1., 1., 1., 1.]]])"
      ]
     },
     "execution_count": 464,
     "metadata": {},
     "output_type": "execute_result"
    }
   ],
   "execution_count": 464
  },
  {
   "metadata": {},
   "cell_type": "markdown",
   "source": "以下代码创建一个形状为（3,4）的张量。 其中的每个元素都从均值为0、标准差为1的标准高斯分布（正态分布）中随机采样。",
   "id": "6f8b2d1682abe136"
  },
  {
   "metadata": {
    "ExecuteTime": {
     "end_time": "2025-05-10T14:26:16.379884Z",
     "start_time": "2025-05-10T14:26:16.374022Z"
    }
   },
   "cell_type": "code",
   "source": "torch.randn(2,3)",
   "id": "ddc8001b4bf221b3",
   "outputs": [
    {
     "data": {
      "text/plain": [
       "tensor([[ 0.6230,  1.1792, -0.3142],\n",
       "        [ 1.4554,  0.7520,  0.6942]])"
      ]
     },
     "execution_count": 465,
     "metadata": {},
     "output_type": "execute_result"
    }
   ],
   "execution_count": 465
  },
  {
   "metadata": {},
   "cell_type": "markdown",
   "source": "用列表来创建张量",
   "id": "2733c9ac538847c4"
  },
  {
   "metadata": {
    "ExecuteTime": {
     "end_time": "2025-05-10T14:26:16.407750Z",
     "start_time": "2025-05-10T14:26:16.400904Z"
    }
   },
   "cell_type": "code",
   "source": [
    "x = torch.tensor([[1.0,2,3],[4,5,6]])\n",
    "x"
   ],
   "id": "80350ff3a6308b79",
   "outputs": [
    {
     "data": {
      "text/plain": [
       "tensor([[1., 2., 3.],\n",
       "        [4., 5., 6.]])"
      ]
     },
     "execution_count": 466,
     "metadata": {},
     "output_type": "execute_result"
    }
   ],
   "execution_count": 466
  },
  {
   "metadata": {},
   "cell_type": "markdown",
   "source": "## 2.1.2 运算符",
   "id": "819c4cb27447ce74"
  },
  {
   "metadata": {},
   "cell_type": "markdown",
   "source": "对于任意具有相同形状的张量， 常见的标准算术运算符（+、-、*、/和**）都可以被升级为按元素运算。 我们可以在同一形状的任意两个张量上调用按元素操作。**为幂运算",
   "id": "19b4f366b2309102"
  },
  {
   "metadata": {
    "ExecuteTime": {
     "end_time": "2025-05-10T14:26:16.423425Z",
     "start_time": "2025-05-10T14:26:16.414580Z"
    }
   },
   "cell_type": "code",
   "source": [
    "x = torch.tensor([1.0, 2, 4, 8])\n",
    "y = torch.tensor([2, 2, 2, 2])\n",
    "x+y,x-y,x*y,x/y,x**y"
   ],
   "id": "19b5221a0465318a",
   "outputs": [
    {
     "data": {
      "text/plain": [
       "(tensor([ 3.,  4.,  6., 10.]),\n",
       " tensor([-1.,  0.,  2.,  6.]),\n",
       " tensor([ 2.,  4.,  8., 16.]),\n",
       " tensor([0.5000, 1.0000, 2.0000, 4.0000]),\n",
       " tensor([ 1.,  4., 16., 64.]))"
      ]
     },
     "execution_count": 467,
     "metadata": {},
     "output_type": "execute_result"
    }
   ],
   "execution_count": 467
  },
  {
   "metadata": {},
   "cell_type": "markdown",
   "source": "对每个元素计算 以e为底x为指数的指数预算，例如e**2=7.3891\n",
   "id": "a6dba0eb940c5d94"
  },
  {
   "metadata": {
    "ExecuteTime": {
     "end_time": "2025-05-10T14:26:16.434040Z",
     "start_time": "2025-05-10T14:26:16.427474Z"
    }
   },
   "cell_type": "code",
   "source": [
    "x = torch.exp(x)\n",
    "x"
   ],
   "id": "5cedb937b21d927a",
   "outputs": [
    {
     "data": {
      "text/plain": [
       "tensor([2.7183e+00, 7.3891e+00, 5.4598e+01, 2.9810e+03])"
      ]
     },
     "execution_count": 468,
     "metadata": {},
     "output_type": "execute_result"
    }
   ],
   "execution_count": 468
  },
  {
   "metadata": {},
   "cell_type": "markdown",
   "source": "两个张量连结  dim=0按列堆叠，dim=1按行堆叠",
   "id": "a1014cbba870b99"
  },
  {
   "metadata": {
    "ExecuteTime": {
     "end_time": "2025-05-10T14:26:16.472302Z",
     "start_time": "2025-05-10T14:26:16.463051Z"
    }
   },
   "cell_type": "code",
   "source": [
    "X = torch.arange(12, dtype=torch.float32).reshape((3,4))\n",
    "print(X.shape)\n",
    "Y = torch.tensor([[2.0, 1, 4, 3], [1, 2, 3, 4], [4, 3, 2, 1]])\n",
    "print(Y.shape)\n",
    "Z = torch.cat((X, Y), dim=0), torch.cat((X, Y), dim=1)\n",
    "Z"
   ],
   "id": "89802c3771352e81",
   "outputs": [
    {
     "name": "stdout",
     "output_type": "stream",
     "text": [
      "torch.Size([3, 4])\n",
      "torch.Size([3, 4])\n"
     ]
    },
    {
     "data": {
      "text/plain": [
       "(tensor([[ 0.,  1.,  2.,  3.],\n",
       "         [ 4.,  5.,  6.,  7.],\n",
       "         [ 8.,  9., 10., 11.],\n",
       "         [ 2.,  1.,  4.,  3.],\n",
       "         [ 1.,  2.,  3.,  4.],\n",
       "         [ 4.,  3.,  2.,  1.]]),\n",
       " tensor([[ 0.,  1.,  2.,  3.,  2.,  1.,  4.,  3.],\n",
       "         [ 4.,  5.,  6.,  7.,  1.,  2.,  3.,  4.],\n",
       "         [ 8.,  9., 10., 11.,  4.,  3.,  2.,  1.]]))"
      ]
     },
     "execution_count": 469,
     "metadata": {},
     "output_type": "execute_result"
    }
   ],
   "execution_count": 469
  },
  {
   "metadata": {},
   "cell_type": "markdown",
   "source": "以X == Y为例： 对于每个位置，如果X和Y在该位置相等，则新张量中相应项的值为1。 这意味着逻辑语句X == Y在该位置处为真，否则该位置为0。",
   "id": "291878b3b111d19"
  },
  {
   "metadata": {
    "ExecuteTime": {
     "end_time": "2025-05-10T14:26:16.484445Z",
     "start_time": "2025-05-10T14:26:16.478556Z"
    }
   },
   "cell_type": "code",
   "source": "X==Y",
   "id": "5502674c867a2252",
   "outputs": [
    {
     "data": {
      "text/plain": [
       "tensor([[False,  True, False,  True],\n",
       "        [False, False, False, False],\n",
       "        [False, False, False, False]])"
      ]
     },
     "execution_count": 470,
     "metadata": {},
     "output_type": "execute_result"
    }
   ],
   "execution_count": 470
  },
  {
   "metadata": {},
   "cell_type": "markdown",
   "source": "张量中的元素求和",
   "id": "6f7217422fe3eff4"
  },
  {
   "metadata": {
    "ExecuteTime": {
     "end_time": "2025-05-10T14:26:16.502134Z",
     "start_time": "2025-05-10T14:26:16.496277Z"
    }
   },
   "cell_type": "code",
   "source": "X.sum()",
   "id": "8cc933581a1ac618",
   "outputs": [
    {
     "data": {
      "text/plain": [
       "tensor(66.)"
      ]
     },
     "execution_count": 471,
     "metadata": {},
     "output_type": "execute_result"
    }
   ],
   "execution_count": 471
  },
  {
   "metadata": {},
   "cell_type": "markdown",
   "source": "## 2.1.3 广播机制",
   "id": "f82f28fe7b236603"
  },
  {
   "metadata": {},
   "cell_type": "markdown",
   "source": [
    "由于a和b分别是\n",
    "和\n",
    "矩阵，如果让它们相加，它们的形状不匹配。 我们将两个矩阵广播为一个更大的\n",
    "矩阵，如下所示：矩阵a将复制列， 矩阵b将复制行，然后再按元素相加。\n"
   ],
   "id": "71f87dfe29fba497"
  },
  {
   "metadata": {
    "ExecuteTime": {
     "end_time": "2025-05-10T14:26:16.536557Z",
     "start_time": "2025-05-10T14:26:16.530460Z"
    }
   },
   "cell_type": "code",
   "source": [
    "a = torch.arange(3).reshape((3, 1))\n",
    "b = torch.arange(2).reshape((1, 2))\n",
    "a, b"
   ],
   "id": "de7d64c6aea3d261",
   "outputs": [
    {
     "data": {
      "text/plain": [
       "(tensor([[0],\n",
       "         [1],\n",
       "         [2]]),\n",
       " tensor([[0, 1]]))"
      ]
     },
     "execution_count": 472,
     "metadata": {},
     "output_type": "execute_result"
    }
   ],
   "execution_count": 472
  },
  {
   "metadata": {},
   "cell_type": "markdown",
   "source": [
    "具体相加细节就是\n",
    "a:[[0],[0],\n",
    "   [1],[1],\n",
    "   [2],[2]]\n",
    "b:[[0,1],\n",
    "   [0,1],\n",
    "   [0,1]]\n"
   ],
   "id": "628c73497f7771ca"
  },
  {
   "metadata": {
    "ExecuteTime": {
     "end_time": "2025-05-10T14:26:16.553641Z",
     "start_time": "2025-05-10T14:26:16.547777Z"
    }
   },
   "cell_type": "code",
   "source": "a+b",
   "id": "7141ef8fe01c63a6",
   "outputs": [
    {
     "data": {
      "text/plain": [
       "tensor([[0, 1],\n",
       "        [1, 2],\n",
       "        [2, 3]])"
      ]
     },
     "execution_count": 473,
     "metadata": {},
     "output_type": "execute_result"
    }
   ],
   "execution_count": 473
  },
  {
   "metadata": {},
   "cell_type": "markdown",
   "source": "## 2.1.4 索引和切片",
   "id": "177369f331fd1e3e"
  },
  {
   "metadata": {},
   "cell_type": "markdown",
   "source": "用[-1]选择最后一个元素,用[1:3]选择第二个和第三个元素",
   "id": "b606dad801179892"
  },
  {
   "metadata": {
    "ExecuteTime": {
     "end_time": "2025-05-10T14:26:16.573792Z",
     "start_time": "2025-05-10T14:26:16.565979Z"
    }
   },
   "cell_type": "code",
   "source": [
    "x = torch.arange(12).reshape((3, 4))\n",
    "print(x)\n",
    "print(x[-1])\n",
    "x[1:3]\n"
   ],
   "id": "e51ba8e9fd87fc5d",
   "outputs": [
    {
     "name": "stdout",
     "output_type": "stream",
     "text": [
      "tensor([[ 0,  1,  2,  3],\n",
      "        [ 4,  5,  6,  7],\n",
      "        [ 8,  9, 10, 11]])\n",
      "tensor([ 8,  9, 10, 11])\n"
     ]
    },
    {
     "data": {
      "text/plain": [
       "tensor([[ 4,  5,  6,  7],\n",
       "        [ 8,  9, 10, 11]])"
      ]
     },
     "execution_count": 474,
     "metadata": {},
     "output_type": "execute_result"
    }
   ],
   "execution_count": 474
  },
  {
   "metadata": {},
   "cell_type": "markdown",
   "source": "## 2.1.5 numpy与张量之间的互相转化",
   "id": "d0b4c93fa2a92aee"
  },
  {
   "metadata": {
    "ExecuteTime": {
     "end_time": "2025-05-10T14:26:16.606471Z",
     "start_time": "2025-05-10T14:26:16.599193Z"
    }
   },
   "cell_type": "code",
   "source": [
    "x = torch.arange(12).reshape((3, 4))\n",
    "print(x)\n",
    "a= x.numpy()\n",
    "print(a)"
   ],
   "id": "27da0692d935f7d7",
   "outputs": [
    {
     "name": "stdout",
     "output_type": "stream",
     "text": [
      "tensor([[ 0,  1,  2,  3],\n",
      "        [ 4,  5,  6,  7],\n",
      "        [ 8,  9, 10, 11]])\n",
      "[[ 0  1  2  3]\n",
      " [ 4  5  6  7]\n",
      " [ 8  9 10 11]]\n"
     ]
    }
   ],
   "execution_count": 475
  },
  {
   "metadata": {
    "ExecuteTime": {
     "end_time": "2025-05-10T14:26:16.626397Z",
     "start_time": "2025-05-10T14:26:16.621283Z"
    }
   },
   "cell_type": "code",
   "source": [
    "x = torch.tensor([3.5])\n",
    "print(x)\n",
    "a = x.item()\n",
    "print(a)"
   ],
   "id": "6cc1171bc02ee1df",
   "outputs": [
    {
     "name": "stdout",
     "output_type": "stream",
     "text": [
      "tensor([3.5000])\n",
      "3.5\n"
     ]
    }
   ],
   "execution_count": 476
  },
  {
   "metadata": {},
   "cell_type": "markdown",
   "source": "",
   "id": "60d71c714a57ed3a"
  },
  {
   "metadata": {
    "ExecuteTime": {
     "end_time": "2025-05-10T14:26:16.665999Z",
     "start_time": "2025-05-10T14:26:16.660144Z"
    }
   },
   "cell_type": "code",
   "source": [
    "x= torch.arange(12).reshape((3, 4))\n",
    "print(x)\n",
    "print(x.tolist())"
   ],
   "id": "e2a0db4d70205ce0",
   "outputs": [
    {
     "name": "stdout",
     "output_type": "stream",
     "text": [
      "tensor([[ 0,  1,  2,  3],\n",
      "        [ 4,  5,  6,  7],\n",
      "        [ 8,  9, 10, 11]])\n",
      "[[0, 1, 2, 3], [4, 5, 6, 7], [8, 9, 10, 11]]\n"
     ]
    }
   ],
   "execution_count": 477
  },
  {
   "metadata": {
    "ExecuteTime": {
     "end_time": "2025-05-10T14:26:16.674296Z",
     "start_time": "2025-05-10T14:26:16.667953Z"
    }
   },
   "cell_type": "code",
   "source": [
    "import numpy as np\n",
    "import torch\n",
    "\n",
    "# 创建 NumPy 数组\n",
    "arr = np.array([1, 2, 3])  # 例如：[1 2 3]\n",
    "\n",
    "# 转换为张量\n",
    "tensor = torch.from_numpy(arr)\n",
    "\n",
    "print(tensor)  # 输出：tensor([1, 2, 3], dtype=torch.int64)"
   ],
   "id": "158157cd79326cd1",
   "outputs": [
    {
     "name": "stdout",
     "output_type": "stream",
     "text": [
      "tensor([1, 2, 3], dtype=torch.int32)\n"
     ]
    }
   ],
   "execution_count": 478
  },
  {
   "metadata": {
    "ExecuteTime": {
     "end_time": "2025-05-10T14:26:16.684194Z",
     "start_time": "2025-05-10T14:26:16.678340Z"
    }
   },
   "cell_type": "code",
   "source": [
    "\n",
    "import torch\n",
    "\n",
    "# 创建张量（默认在 CPU 上）\n",
    "tensor = torch.tensor([1, 2, 3])  # 输出：tensor([1, 2, 3])\n",
    "print(tensor)\n",
    "# 转换为 NumPy 数组\n",
    "arr = tensor.numpy()\n",
    "\n",
    "print(arr)  # 输出：[1 2 3]"
   ],
   "id": "5664d75154d4cabe",
   "outputs": [
    {
     "name": "stdout",
     "output_type": "stream",
     "text": [
      "tensor([1, 2, 3])\n",
      "[1 2 3]\n"
     ]
    }
   ],
   "execution_count": 479
  }
 ],
 "metadata": {
  "kernelspec": {
   "display_name": "Python 3",
   "language": "python",
   "name": "python3"
  },
  "language_info": {
   "codemirror_mode": {
    "name": "ipython",
    "version": 2
   },
   "file_extension": ".py",
   "mimetype": "text/x-python",
   "name": "python",
   "nbconvert_exporter": "python",
   "pygments_lexer": "ipython2",
   "version": "2.7.6"
  }
 },
 "nbformat": 4,
 "nbformat_minor": 5
}
